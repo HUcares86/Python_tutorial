{
 "cells": [
  {
   "cell_type": "markdown",
   "id": "f451d225",
   "metadata": {},
   "source": [
    "#### 變量"
   ]
  },
  {
   "cell_type": "code",
   "execution_count": null,
   "id": "28a9f0fd",
   "metadata": {},
   "outputs": [],
   "source": [
    "MY_NAME = 'TOM'\n",
    "print(MY_NAME)"
   ]
  },
  {
   "cell_type": "markdown",
   "id": "a78296bd",
   "metadata": {},
   "source": [
    "## 數據類型"
   ]
  },
  {
   "cell_type": "raw",
   "id": "d18e6657",
   "metadata": {},
   "source": [
    "1.數值:int,float\n",
    "2.真假:T,F\n",
    "3.str(字串)\n",
    "4.list\n",
    "5.tuple\n",
    "6.set\n",
    "7.dict"
   ]
  },
  {
   "cell_type": "code",
   "execution_count": null,
   "id": "41d044af",
   "metadata": {},
   "outputs": [],
   "source": [
    "num1 = 1\n",
    "num2 = 1.0\n",
    "print(type(num1))\n",
    "print(type(num2))\n",
    "\n",
    "a = 'hello world'  \n",
    "print(type(a))\n",
    "\n",
    "b = True\n",
    "print(type(b))\n",
    "\n",
    "c = [10,20,30]\n",
    "print(type(c))\n",
    "\n",
    "d = (10,20,30)\n",
    "print(type(d))\n",
    "\n",
    "e = {10,20,30}\n",
    "print(type(e))\n",
    "\n",
    "f = {'name':'tom','age':20}\n",
    "print(type(f))"
   ]
  },
  {
   "cell_type": "code",
   "execution_count": null,
   "id": "450d8cdb",
   "metadata": {},
   "outputs": [],
   "source": [
    "a = \"11\"\n",
    "b = 10 \n",
    "c = [10,20]\n",
    "\n",
    "print(type(a))\n",
    "print(type(b))\n",
    "print(type(c))\n",
    "\n",
    "print(type(a) is str)\n",
    "print(type(b) == int)\n",
    "print(type(c) == list)\n"
   ]
  },
  {
   "cell_type": "markdown",
   "id": "c094f10f",
   "metadata": {},
   "source": [
    "## 格式化符號"
   ]
  },
  {
   "cell_type": "raw",
   "id": "7cc437b6",
   "metadata": {},
   "source": [
    "%s  string\n",
    "%d 10進位整數\n",
    "%f float"
   ]
  },
  {
   "cell_type": "code",
   "execution_count": null,
   "id": "e9adf3f6",
   "metadata": {},
   "outputs": [],
   "source": [
    "age = 18\n",
    "name = 'tom'\n",
    "weight = 75.5\n",
    "stu_id = 1\n",
    "stu_id2 = 11\n",
    "stu_id3 = 1000\n",
    "\n",
    "\n",
    "#我今年x歲 \n",
    "print('我今年%d歲'%age )\n",
    "\n",
    "#我名子是\n",
    "print('我名子是%s'%name)\n",
    "\n",
    "#我體重是\n",
    "print('我體重是%f'%weight)\n",
    "print('我體重是%.2f'%weight)    #.2 保留兩位小數\n",
    "\n",
    "#我學號是\n",
    "print('我學號是%d'%stu_id)\n",
    "\n",
    "#我學號是001\n",
    "print('我學號是%03d'%stu_id)     #03 三位數，前面是0\n",
    "print('我學號是%03d'%stu_id2)\n",
    "print('我學號是%03d'%stu_id3)    #超出3位數，保留原本數字\n",
    "\n",
    "\n",
    "#我名子是，我體重是\n",
    "print('我名子是%s，我體重是%d'%(name,weight))\n",
    "print('我今年是%s歲，我明年是%s歲'%(age,age+1))\n",
    "print('我名子是%s，我今年是%s歲，我體重是%.2f，我學號是%06d'%(name,age,weight,stu_id))"
   ]
  },
  {
   "cell_type": "code",
   "execution_count": null,
   "id": "854d78ce",
   "metadata": {},
   "outputs": [],
   "source": [
    "print('我名子是%s，我今年是%s歲，我體重是%.2f，我學號是%06d'%(name,age,weight,stu_id))\n",
    "\n",
    "# f'{表達是}'\n",
    "print(f'我名子是{name}，我今年是{age}歲，我體重是{weight}，我學號是{stu_id}')\n",
    "print(f'我名子是{name}，我明年是{age+1}歲，我體重是{weight}，我學號是{stu_id}')"
   ]
  },
  {
   "cell_type": "markdown",
   "id": "8ebfa864",
   "metadata": {},
   "source": [
    "## 输出 转义字符"
   ]
  },
  {
   "cell_type": "raw",
   "id": "2baa6ede",
   "metadata": {},
   "source": [
    "\\n :換行\n",
    "\\t :tab"
   ]
  },
  {
   "cell_type": "code",
   "execution_count": null,
   "id": "34e19396",
   "metadata": {},
   "outputs": [],
   "source": [
    "print('hello')\n",
    "print('world')\n",
    "print('hello world1')\n",
    "print('hello\\nworld')\n",
    "print('hello\\tworld')"
   ]
  },
  {
   "cell_type": "code",
   "execution_count": null,
   "id": "b15fef82",
   "metadata": {},
   "outputs": [],
   "source": [
    "#結束刑事\n",
    "print('hello',end='\\n')\n",
    "print('world')\n",
    "print('hello',end='\\t')\n",
    "print('world')\n",
    "print('hello',end='....')\n",
    "print('world')"
   ]
  },
  {
   "cell_type": "markdown",
   "id": "ac615333",
   "metadata": {},
   "source": [
    "## 输入"
   ]
  },
  {
   "cell_type": "raw",
   "id": "0a414c2e",
   "metadata": {},
   "source": [
    "input 輸入的數據都是字串"
   ]
  },
  {
   "cell_type": "code",
   "execution_count": null,
   "id": "337dec85",
   "metadata": {},
   "outputs": [],
   "source": [
    "password = input('password: ')\n",
    "print(f'your password is : {password}')\n",
    "print(type(password))\n",
    "print(int(password))"
   ]
  },
  {
   "cell_type": "code",
   "execution_count": null,
   "id": "702c36cc",
   "metadata": {},
   "outputs": [],
   "source": [
    "n = int(input())\n",
    "print(n)"
   ]
  },
  {
   "cell_type": "markdown",
   "id": "4c36648b",
   "metadata": {},
   "source": [
    "## 数据类型转换"
   ]
  },
  {
   "cell_type": "code",
   "execution_count": null,
   "id": "1538a775",
   "metadata": {},
   "outputs": [],
   "source": [
    "num = input(\"輸入數字:\")\n",
    "print(num)\n",
    "print(type(num))\n",
    "\n",
    "print(\"int:\",type(int(num)))\n",
    "print(\"float:\",type(float(num)))"
   ]
  },
  {
   "cell_type": "code",
   "execution_count": null,
   "id": "bc241484",
   "metadata": {},
   "outputs": [],
   "source": [
    "for i in range(10):\n",
    "    num = i;\n",
    "    print(num)\n",
    "    #print(int(num))\n",
    "    print('I have %d' %num)\n"
   ]
  },
  {
   "cell_type": "code",
   "execution_count": null,
   "id": "67978623",
   "metadata": {},
   "outputs": [],
   "source": [
    "num1 = 1\n",
    "str1 = \"10\"\n",
    "list1 = [10, 20, 30]\n",
    "t1 = (100, 200, 300)\n",
    "str2 = \"1\"\n",
    "str3 = \"1.1\"\n",
    "str4 = \"[10, 20, 30]\"\n",
    "str5 = \"(100, 200, 300)\""
   ]
  },
  {
   "cell_type": "code",
   "execution_count": null,
   "id": "e4971197",
   "metadata": {},
   "outputs": [],
   "source": [
    "print(float(num1))\n",
    "print(type(float(num1)))\n",
    "\n",
    "print(\"--------------------------------\")\n",
    "print(float(str1))\n",
    "print(type(float(str1)))\n",
    "\n",
    "print(\"--------------------------------\")\n",
    "print(str(num1))\n",
    "print(type(str(num1)))\n",
    "\n",
    "print(\"--------------------------------\")\n",
    "print(tuple(list1))\n",
    "print(type(tuple(list1)))\n",
    "\n",
    "print(\"--------------------------------\")\n",
    "print(list(t1))\n",
    "print(type(list(t1)))\n",
    "\n",
    "print(\"--------------------------------\")\n",
    "print(eval(str2))\n",
    "print(eval(str3))\n",
    "print(eval(str4))\n",
    "print(eval(str5))\n",
    "# eval 將字串轉換成它原本的形式\n"
   ]
  },
  {
   "cell_type": "markdown",
   "id": "afe964ef",
   "metadata": {},
   "source": [
    "## 運算符號"
   ]
  },
  {
   "cell_type": "code",
   "execution_count": null,
   "id": "46cdb6bc",
   "metadata": {
    "scrolled": true
   },
   "outputs": [],
   "source": [
    "a = 10\n",
    "b = a\n",
    "print(a,b)\n",
    "a = 12\n",
    "print(a,b)\n"
   ]
  },
  {
   "cell_type": "code",
   "execution_count": null,
   "id": "ae41d7b4",
   "metadata": {},
   "outputs": [],
   "source": [
    "a = [10,20,30]\n",
    "b = a\n",
    "print(a,b)\n",
    "a.pop(0)\n",
    "print(a,b)\n",
    "a.append(40)\n",
    "print(a,b)\n",
    "a = [100,200,300]\n",
    "print(a,b)"
   ]
  },
  {
   "cell_type": "code",
   "execution_count": null,
   "id": "aef71522",
   "metadata": {},
   "outputs": [],
   "source": [
    "c = 10\n",
    "c *= 1+2\n",
    "print(c)"
   ]
  },
  {
   "cell_type": "markdown",
   "id": "8c11421a",
   "metadata": {},
   "source": [
    "## 数字的逻辑运算"
   ]
  },
  {
   "cell_type": "code",
   "execution_count": null,
   "id": "317e765a",
   "metadata": {},
   "outputs": [],
   "source": [
    "a = 0\n",
    "b = 1\n",
    "c = 2\n",
    "\n",
    "print(a and b)\n",
    "print(b and a)\n",
    "print(a and c)\n",
    "print(c and a)\n",
    "print(b and c)\n",
    "print(c and b)\n",
    "\n",
    "# and ,只要一個是０就會回傳０，否則結果為最後一個數字"
   ]
  },
  {
   "cell_type": "code",
   "execution_count": null,
   "id": "33a9e831",
   "metadata": {},
   "outputs": [],
   "source": [
    "print(a or b)\n",
    "print(b or a)\n",
    "print(a or c)\n",
    "print(c or a)\n",
    "print(b or c)\n",
    "print(c or b)\n",
    "\n",
    "# or ,只有全部是０才會回傳０，否則結果為地一個非0數字"
   ]
  },
  {
   "cell_type": "markdown",
   "id": "a2d57b90",
   "metadata": {},
   "source": [
    "## IF"
   ]
  },
  {
   "cell_type": "code",
   "execution_count": null,
   "id": "ad0fba8a",
   "metadata": {},
   "outputs": [],
   "source": [
    "age = int(input(\"your age is:\"))\n",
    "if age >= 18:\n",
    "    print(f'your age is {age}, you are of age ')\n",
    "else:\n",
    "    print(f'your age is {age}, you are not of age ')"
   ]
  },
  {
   "cell_type": "code",
   "execution_count": null,
   "id": "44fb59ba",
   "metadata": {},
   "outputs": [],
   "source": [
    "age = int(input(\"your age is:\"))\n",
    "if age < 18:\n",
    "    print(f'your age is {age}, < 18 ')\n",
    "elif age >= 18 and age <= 60:\n",
    "    print(f'your age is {age}, 60>= age >=18   ')\n",
    "else:\n",
    "    print(f'your age is {age}, > 60 ')"
   ]
  },
  {
   "cell_type": "code",
   "execution_count": null,
   "id": "28a77ac0",
   "metadata": {},
   "outputs": [],
   "source": [
    "age = int(input(\"your age is:\"))\n",
    "if age < 18:\n",
    "    print(f'your age is {age}, < 18 ')\n",
    "elif 60 >= age >= 18 :\n",
    "    print(f'your age is {age}, 60>= age >=18   ')\n",
    "else:\n",
    "    print(f'your age is {age}, > 60 ')"
   ]
  },
  {
   "cell_type": "markdown",
   "id": "2d2eadd8",
   "metadata": {},
   "source": [
    "## 猜拳游戏"
   ]
  },
  {
   "cell_type": "code",
   "execution_count": null,
   "id": "e12b347a",
   "metadata": {},
   "outputs": [],
   "source": [
    "import random\n",
    "\n",
    "player = int(input(\"出拳，剪刀：1,石頭:2,布:3 \"))\n",
    "\n",
    "num = random.randint(1,3)    #random.randint()會包含起始跟終點\n",
    "\n",
    "if player == num :\n",
    "    print(\"draw\")\n",
    "if (player == 1 and num == 2) or (player == 2 and num == 3) or (player == 3 and num == 1):\n",
    "    print(\"you lose\")\n",
    "if (player == 1 and num == 3) or (player == 2 and num == 1) or (player == 3 and num == 2):\n",
    "    print(\"you win\") \n",
    "print(num)"
   ]
  },
  {
   "cell_type": "code",
   "execution_count": null,
   "id": "03d7b7a9",
   "metadata": {},
   "outputs": [],
   "source": [
    "a = 10\n",
    "b = 12\n",
    "\n",
    "c = (a - b) if (a > b) else (b - a)\n",
    "print(c)"
   ]
  },
  {
   "cell_type": "markdown",
   "id": "06b71c0d",
   "metadata": {},
   "source": [
    "## 循环"
   ]
  },
  {
   "cell_type": "code",
   "execution_count": null,
   "id": "14a18a3c",
   "metadata": {},
   "outputs": [],
   "source": [
    "i = 0\n",
    "while i < 5:\n",
    "    print(i)\n",
    "    i += 1"
   ]
  },
  {
   "cell_type": "raw",
   "id": "b3f90660",
   "metadata": {},
   "source": [
    "# 1~100取得偶數"
   ]
  },
  {
   "cell_type": "code",
   "execution_count": null,
   "id": "128edc09",
   "metadata": {},
   "outputs": [],
   "source": [
    "i = 0\n",
    "result = 0\n",
    "while i <= 100:\n",
    "    if i%2 == 0:\n",
    "        result += i\n",
    "    i += 1\n",
    "print(result)\n",
    "# 2550"
   ]
  },
  {
   "cell_type": "code",
   "execution_count": null,
   "id": "575ead73",
   "metadata": {},
   "outputs": [],
   "source": [
    "i = 0\n",
    "result = 0\n",
    "while i <= 100:\n",
    "    result += i\n",
    "    i += 2\n",
    "print(result)\n",
    "# 2550"
   ]
  },
  {
   "cell_type": "raw",
   "id": "f5e7dc04",
   "metadata": {},
   "source": [
    "# break"
   ]
  },
  {
   "cell_type": "code",
   "execution_count": null,
   "id": "6a7f4bd8",
   "metadata": {},
   "outputs": [],
   "source": [
    "i = 0\n",
    "\n",
    "while i <= 10:\n",
    "    if i == 4:\n",
    "        print(\"i am full\")\n",
    "        break\n",
    "    print(f\"i eat {i} apples \")    \n",
    "    i += 1\n"
   ]
  },
  {
   "cell_type": "code",
   "execution_count": null,
   "id": "03a07aa0",
   "metadata": {},
   "outputs": [],
   "source": [
    "i = 0\n",
    "\n",
    "while i <= 10:\n",
    "    if i == 4:\n",
    "        print(\"i ate a bug, eat the next\")\n",
    "        i += 1\n",
    "        continue\n",
    "    print(f\"i eat {i} apples \")    \n",
    "    i += 1"
   ]
  },
  {
   "cell_type": "code",
   "execution_count": null,
   "id": "ceaf9974",
   "metadata": {},
   "outputs": [],
   "source": [
    "j = 0\n",
    "\n",
    "\n",
    "while j <= 10:\n",
    "    i = 0\n",
    "    while i <= 10:\n",
    "        print(\"*\", end = \"\")\n",
    "        i += 1\n",
    "        \n",
    "    print()    \n",
    "    j += 1"
   ]
  },
  {
   "cell_type": "code",
   "execution_count": null,
   "id": "893be807",
   "metadata": {},
   "outputs": [],
   "source": [
    "j = 0\n",
    "\n",
    "while j <= 10:\n",
    "    i = 0\n",
    "    k = 1\n",
    "    while i <= j:\n",
    "        print(\"*\", end = \"\")\n",
    "        i += 1\n",
    "        \n",
    "    print()    \n",
    "    j += 1"
   ]
  },
  {
   "cell_type": "code",
   "execution_count": null,
   "id": "3bc76083",
   "metadata": {},
   "outputs": [],
   "source": [
    "j = 1\n",
    "\n",
    "while j <= 9:\n",
    "    i = 1\n",
    "    while i <= j:\n",
    "        print(f\"{j}*{i}={i*j}\",end = \" \")\n",
    "        i += 1\n",
    "        \n",
    "    print()    \n",
    "    j += 1"
   ]
  },
  {
   "cell_type": "code",
   "execution_count": null,
   "id": "2d8f1c6d",
   "metadata": {},
   "outputs": [],
   "source": [
    "name = \"chocolate\"\n",
    "for i in name:\n",
    "    print(i)"
   ]
  },
  {
   "cell_type": "code",
   "execution_count": null,
   "id": "6fd76a0e",
   "metadata": {},
   "outputs": [],
   "source": [
    "name = \"chocolate\"\n",
    "for i in name:\n",
    "    if i == \"a\":\n",
    "        break\n",
    "    print(i)\n",
    "\n",
    "print(\"-------------------\")    \n",
    "name = \"chocolate\"\n",
    "for i in name:\n",
    "    if i == \"a\":\n",
    "        print(\"no a\")\n",
    "        continue\n",
    "    print(i)\n"
   ]
  },
  {
   "cell_type": "markdown",
   "id": "73b69ed9",
   "metadata": {},
   "source": [
    "## 认识字符串"
   ]
  },
  {
   "cell_type": "code",
   "execution_count": null,
   "id": "5b27dbb4",
   "metadata": {},
   "outputs": [],
   "source": [
    "name = \"jack\"\n",
    "print(\"your name is %s\" %name)\n",
    "print(f\"your name is {name}\")"
   ]
  },
  {
   "cell_type": "code",
   "execution_count": null,
   "id": "1619df10",
   "metadata": {},
   "outputs": [],
   "source": [
    "string = \"abcdefghijkl\"\n",
    "print(string[0],string[1])"
   ]
  },
  {
   "cell_type": "code",
   "execution_count": null,
   "id": "3f466494",
   "metadata": {},
   "outputs": [],
   "source": [
    "string = \"abcdefghijkl\"\n",
    "\n",
    "# [開始為止：結束位址：步長]\n",
    "\n",
    "print(string[2:5:1])\n",
    "print(string[2:5])\n",
    "print(string[2:5:2])\n",
    "print(string[:5])\n",
    "print(string[2:])\n",
    "\n",
    "print(string[:])   #全部\n",
    "\n",
    "print(string[-4:-1])    #由左到右\n",
    "print(string[-4:-6:-1])    #由右到左"
   ]
  },
  {
   "cell_type": "code",
   "execution_count": null,
   "id": "8534307c",
   "metadata": {},
   "outputs": [],
   "source": [
    "line = \"The fact that you can't he's wrong. It just means you haven't gone beyond your own limits.\"\n",
    "print(line.find(\"he\"))   #the \n",
    "print(line.find(\"he\",10,60))\n",
    "print(line.find(\"his\"))   # -1 doesn't exist\n",
    "\n",
    "print(line.index(\"he\"))   #the \n",
    "print(line.index(\"he\",10,60))\n",
    "#print(line.index(\"his\"))   # error\n",
    "\n",
    "print(line.count(\"he\"))   #\n",
    "print(line.count(\"he\",10,60))\n",
    "print(line.count(\"his\"))   # 0\n"
   ]
  },
  {
   "cell_type": "code",
   "execution_count": null,
   "id": "0d23f13c",
   "metadata": {},
   "outputs": [],
   "source": [
    "# 替換\n",
    "\n",
    "line = \"i love you baby i love chocolate love coding\"\n",
    "print(line.replace(\"love\",'hate')) \n",
    "\n",
    "print(line.replace(\"love\",'hate',1)) #只換一次\n",
    "\n",
    "print(line.split(\"love\")) \n",
    "print(line.split(\"love\",2))  #split 2 次\n",
    "print(line.split(\" \"))\n",
    "\n",
    "# join 試用一個字符貨字串交很多字串連再一起\n",
    "text = [\"aa\",'bb','cc',\"dd\"]\n",
    "print(\"...\".join(text))\n",
    "print(\"\".join(text),\" \",\" \".join(text))"
   ]
  },
  {
   "cell_type": "code",
   "execution_count": null,
   "id": "b87af7d4",
   "metadata": {},
   "outputs": [],
   "source": [
    "# 大小寫\n",
    "\n",
    "line = \"i love you baby i love chocolate love coding\"\n",
    "print(line.capitalize())     #開頭大寫\n",
    "print(line.title())      # all words are capital\n",
    "\n",
    "new = line.upper()\n",
    "print(new)    #all caps\n",
    "print(new.lower())   # all lower\n"
   ]
  },
  {
   "cell_type": "code",
   "execution_count": null,
   "id": "8864769f",
   "metadata": {},
   "outputs": [],
   "source": [
    "# 刪除空白\n",
    "\n",
    "line = \"  i love you baby i love chocolate love coding  \"\n",
    "print(line.lstrip())   \n",
    "print(line.rstrip())    \n",
    "print(line.strip())    "
   ]
  },
  {
   "cell_type": "code",
   "execution_count": null,
   "id": "389b7344",
   "metadata": {},
   "outputs": [],
   "source": [
    "# \n",
    "\n",
    "line = \"hello \"\n",
    "print(line.ljust(10,\".\"))   \n",
    "print(line.ljust(10)) \n",
    "\n",
    "print(line.rjust(10,\".\"))   \n",
    "print(line.rjust(10)) \n",
    "\n",
    "print(line.center(10,\".\")) \n",
    "print(line.center(10)) "
   ]
  },
  {
   "cell_type": "code",
   "execution_count": null,
   "id": "04e70d62",
   "metadata": {},
   "outputs": [],
   "source": [
    "# \n",
    "\n",
    "line = \"love you baby i love chocolate love coding\"\n",
    "print(line.startswith(\"love\"))\n",
    "print(line.startswith(\"lov\"))\n",
    "print(line.startswith(\"loe\"))\n",
    "\n",
    "print(line.endswith(\"coding\"))\n"
   ]
  },
  {
   "cell_type": "code",
   "execution_count": null,
   "id": "8c98f60b",
   "metadata": {},
   "outputs": [],
   "source": [
    "# \n",
    "\n",
    "line1 = \"love\"\n",
    "line2 = \"love \"\n",
    "line3 = \"love1234\"\n",
    "line4 = \"1234\"\n",
    "\n",
    "# all str\n",
    "print(line1.isalpha())\n",
    "print(line2.isalpha())\n",
    "print(line3.isalpha())\n",
    "\n",
    "print(\"-------------\")\n",
    "#all num\n",
    "print(line3.isdigit())\n",
    "print(line4.isdigit())\n",
    "\n",
    "print(\"-------------\")\n",
    "# alnum num or str\n",
    "print(line1.isalnum())\n",
    "print(line2.isalnum())\n",
    "print(line3.isalnum())\n",
    "print(line4.isalnum())"
   ]
  },
  {
   "cell_type": "code",
   "execution_count": null,
   "id": "70fdd9c7",
   "metadata": {},
   "outputs": [],
   "source": [
    "# \n",
    "\n",
    "name = ['qqq','wwww','eee','rrrr']\n",
    "print(name.index(\"qqq\",0,1))\n",
    "print(name.count(\"qqq\"))\n",
    "print(len(name))\n",
    "\n",
    "print(\"qqq\" in  name)\n",
    "print(\"qqqq\" in  name)\n",
    "print(\"qqqq\" not in  name)"
   ]
  },
  {
   "cell_type": "code",
   "execution_count": null,
   "id": "28315ec5",
   "metadata": {},
   "outputs": [],
   "source": [
    "namelst = ['qqq','wwww','eee','rrrr']\n",
    "\n",
    "name = input(\"input name:\")\n",
    "if name in namelst:\n",
    "    print(f\"{name} is in name list\")\n",
    "else:\n",
    "    print(f\"{name} is not in name list\")"
   ]
  },
  {
   "cell_type": "code",
   "execution_count": null,
   "id": "6ea633ef",
   "metadata": {},
   "outputs": [],
   "source": [
    "namelst = ['qqq','wwww','eee','rrrr']\n",
    "\n",
    "namelst.append(\"qqqq\")\n",
    "print(namelst)\n",
    "\n",
    "namelst.append(10)\n",
    "print(namelst)\n",
    "\n",
    "namelst.append([10,20])\n",
    "print(namelst)\n",
    "\n",
    "namelst.extend(\"he\")\n",
    "print(namelst)\n",
    "\n",
    "\n",
    "namelst.extend([40,50])\n",
    "print(namelst)\n",
    "\n",
    "namelst.insert(1,\"zzz\")\n",
    "print(namelst)\n",
    "\n",
    "del namelst[0]\n",
    "print(namelst)\n",
    "\n",
    "# pop did say , then pop the last one\n",
    "print(\"-----------\")\n",
    "print(namelst)\n",
    "print(namelst.pop())\n",
    "print(namelst.pop(1))\n",
    "print(namelst.clear())"
   ]
  },
  {
   "cell_type": "code",
   "execution_count": null,
   "id": "9f559a1c",
   "metadata": {},
   "outputs": [],
   "source": [
    "namelst = ['qqq','wwww','eee','rrrr']\n",
    "namelst[0] = \"xxx\"\n",
    "print(namelst)\n",
    "\n",
    "namelst.reverse()\n",
    "print(namelst)\n",
    "\n",
    "list = [1,4,2,7,5,9,0,2,3]\n",
    "list.reverse()\n",
    "print(list)\n",
    "\n",
    "list.sort()\n",
    "print(list)\n",
    "\n",
    "list.sort(reverse = True)\n",
    "print(list)\n",
    "\n",
    "list.sort(reverse = False)\n",
    "print(list)"
   ]
  },
  {
   "cell_type": "code",
   "execution_count": null,
   "id": "65c38750",
   "metadata": {},
   "outputs": [],
   "source": [
    "# difference between  =. and copy\n",
    "namelst = ['qqq','wwww','eee','rrrr']\n",
    "list1 =  namelst.copy()\n",
    "list2 = namelst\n",
    "print(list1)\n",
    "\n",
    "namelst[0] = 'pp'\n",
    "print(namelst)\n",
    "print(list1)\n",
    "print(list2)\n",
    "\n",
    "\n",
    "# -----------\n",
    "i = 0\n",
    "while i < len(namelst):\n",
    "    print(namelst[i]);\n",
    "    i += 1;\n",
    "\n",
    "print(\"---------------\")\n",
    "#  2nd method\n",
    "for i in namelst:\n",
    "    print(i)\n",
    "\n",
    "    "
   ]
  },
  {
   "cell_type": "code",
   "execution_count": null,
   "id": "727755bf",
   "metadata": {},
   "outputs": [],
   "source": [
    "namelst = [['qqq','wwww','eee','rrrr'],\n",
    "           ['aaa','ssss','dd','fff'],\n",
    "           ['ggg','hh','j','kk'],\n",
    "           ['zz','x','c','v']]\n",
    "\n",
    "print(namelst[2])\n",
    "print(namelst[2][2])\n"
   ]
  },
  {
   "cell_type": "markdown",
   "id": "e419587c",
   "metadata": {},
   "source": [
    "## 随机分配办公室"
   ]
  },
  {
   "cell_type": "code",
   "execution_count": null,
   "id": "7527fd4d",
   "metadata": {},
   "outputs": [],
   "source": [
    "import random\n",
    "teachers = ['a','b','c','d','e','f','g','h','i','j','k']\n",
    "office = [[],[],[],[],[]]\n",
    "for i in teachers:\n",
    "    num = random.randint(0,4)\n",
    "    office[num].append(i)\n",
    "print(office)\n",
    "\n",
    "for i in office:\n",
    "    print(f\" office {i} has {len(i)} , the teachers are :\")\n",
    "    for j in i:\n",
    "        print(j)"
   ]
  },
  {
   "cell_type": "markdown",
   "id": "82c720ec",
   "metadata": {},
   "source": [
    "## tuple"
   ]
  },
  {
   "cell_type": "code",
   "execution_count": null,
   "id": "418d65e6",
   "metadata": {},
   "outputs": [],
   "source": [
    "t1 = (10,20,30)\n",
    "print(type(t1))\n",
    "\n",
    "t2 = (10,)\n",
    "print(type(t2))\n",
    "\n",
    "t3 = (20)\n",
    "print(type(t3))\n",
    "\n",
    "t4 = (\"10,20,30\")\n",
    "print(type(t4))"
   ]
  },
  {
   "cell_type": "code",
   "execution_count": null,
   "id": "0e666b6e",
   "metadata": {},
   "outputs": [],
   "source": [
    "t4 = (\"10\",\"20\",\"30\",\"40\",\"10\",\"60\")\n",
    "print(t4[0])\n",
    "print(t4.index('10'))\n",
    "print(t4.count('10'))\n",
    "print(t4.count('100'))\n",
    "print(len(t4))"
   ]
  },
  {
   "cell_type": "code",
   "execution_count": null,
   "id": "77af9a12",
   "metadata": {},
   "outputs": [],
   "source": [
    "# 如何修改 Tuple\n",
    "\n",
    "t = (\"10\",\"20\",\"30\",\"40\",\"10\",\"60\")\n",
    "#   t[0] = '5'  無法改\n",
    "#print(t)\n",
    "\n",
    "t1 = (\"10\",\"20\",\"30\",\"40\",[\"10\",\"60\"]) \n",
    "print(t1[4])\n",
    "print(t1[4][0])\n",
    "t1[4][0] = \"tom\"\n",
    "print(t1)"
   ]
  },
  {
   "cell_type": "markdown",
   "id": "5550635a",
   "metadata": {},
   "source": [
    "## dictionary"
   ]
  },
  {
   "cell_type": "code",
   "execution_count": null,
   "id": "4c64c527",
   "metadata": {},
   "outputs": [],
   "source": [
    "dict = {'name':'tom','age':20,'gender':'male'}\n",
    "print(dict)\n",
    "print(type(dict))\n",
    "\n",
    "dict1 = {}\n",
    "print(dict1)\n",
    "print(type(dict1))\n",
    "\n",
    "dict[\"name\"] = \"rose\" \n",
    "dict[\"id\"] = \"b05202018\" \n",
    "\n",
    "print(dict)\n",
    "\n",
    "del dict[\"name\"]\n",
    "print(dict)\n",
    "\n",
    "dict.clear()\n",
    "print(dict)"
   ]
  },
  {
   "cell_type": "code",
   "execution_count": null,
   "id": "acf3260b",
   "metadata": {},
   "outputs": [],
   "source": [
    "dict1 = {'name':'tom','age':20,'gender':'male'}\n",
    "print(dict1.get('name'))\n",
    "print(dict1.get('id',110))\n",
    "\n",
    "\n",
    "print(dict1)\n",
    "print(dict1.keys())\n",
    "print(dict1.values())\n",
    "print(dict1.items())"
   ]
  },
  {
   "cell_type": "code",
   "execution_count": null,
   "id": "71970f65",
   "metadata": {},
   "outputs": [],
   "source": [
    "dict1 = {'name':'tom','age':20,'gender':'male'}\n",
    "for key, value in dict1.items():\n",
    "    print(f'{key} = {value}')"
   ]
  },
  {
   "cell_type": "markdown",
   "id": "7c1dfe21",
   "metadata": {},
   "source": [
    "## sets"
   ]
  },
  {
   "cell_type": "code",
   "execution_count": null,
   "id": "8e3814f4",
   "metadata": {},
   "outputs": [],
   "source": [
    "s = {1,2,3,4,5,6}\n",
    "print(s)\n",
    "\n",
    "s1 = {1,1,3,4,6,6}\n",
    "print(s1)\n",
    "\n",
    "s2 = set('abcdefg')\n",
    "print(s2)\n",
    "\n",
    "s3 = set()\n",
    "print(type(s3))\n",
    "\n",
    "s4 = {}\n",
    "print(type(s4))"
   ]
  },
  {
   "cell_type": "code",
   "execution_count": null,
   "id": "736c36b2",
   "metadata": {},
   "outputs": [],
   "source": [
    "s = {1,2,3}\n",
    "s.add(10)\n",
    "s.add(1)\n",
    "print(s)\n",
    "\n",
    "# update 追加的事序列\n",
    "\n",
    "s.update([100,200])\n",
    "print(s)\n",
    "\n",
    "# remove , if element is not inside it will report error\n",
    "s.remove(10)\n",
    "print(s)\n",
    "\n",
    "s.discard(100)\n",
    "s.discard(10)   # but discard wouldn't\n",
    "print(s)\n",
    "\n",
    "delnum = s.pop()\n",
    "print(s)\n",
    "print(delnum )"
   ]
  },
  {
   "cell_type": "code",
   "execution_count": null,
   "id": "2f96f1d4",
   "metadata": {},
   "outputs": [],
   "source": [
    "s = {1,2,3}\n",
    "\n",
    "print(1 in s)\n",
    "print(10 not in s)\n",
    "print(10 in s)\n"
   ]
  },
  {
   "cell_type": "code",
   "execution_count": null,
   "id": "3bef0e22",
   "metadata": {},
   "outputs": [],
   "source": [
    "namelst = ['qqq','wwww','eee','rrrr']\n",
    "namelst2 = [['qqq','wwww','eee','rrrr'],\n",
    "           ['aaa','ssss','dd','fff'],\n",
    "           ['ggg','hh','j','kk'],\n",
    "           ['zz','x','c','v']]\n",
    "\n",
    "for i in enumerate(namelst, start = 1):\n",
    "    print(i)\n",
    "    \n",
    "for i in enumerate(namelst2, start = 0):\n",
    "    print(i)"
   ]
  },
  {
   "cell_type": "code",
   "execution_count": null,
   "id": "609d96a7",
   "metadata": {},
   "outputs": [],
   "source": [
    "list1 = ['qqq','wwww','eee','rrrr']\n",
    "s = {10,20,30,40}\n",
    "t = ('1','10','100','100')\n",
    "\n",
    "t_l = tuple(list1)\n",
    "t_s = tuple(s)\n",
    "print(t_l)\n",
    "print(t_s)\n",
    "\n",
    "lt = (list(t))\n",
    "ls = (list(s))\n",
    "print(lt)\n",
    "print(ls)\n",
    "\n",
    "sl = set(list1)\n",
    "st = set(t)\n",
    "print(sl)\n",
    "print(st)"
   ]
  },
  {
   "cell_type": "code",
   "execution_count": null,
   "id": "39e8d566",
   "metadata": {},
   "outputs": [],
   "source": [
    "list1 = []\n",
    "for i in range(10):\n",
    "    list1.append(i);\n",
    "print(list1)\n",
    "\n",
    "\n",
    "list2 = [i for i in range(10)]\n",
    "print(list2)\n",
    "\n",
    "\n",
    "list3 = [i for i in range(0,10,2)]\n",
    "print(list3)\n",
    "\n",
    "list4 = [i for i in range(10) if i%2 == 0]\n",
    "print(list4)\n",
    "\n",
    "list5 = [(i,j) for i in range(1,3) for j in range(4)]\n",
    "print(list5)"
   ]
  },
  {
   "cell_type": "code",
   "execution_count": null,
   "id": "47580b61",
   "metadata": {},
   "outputs": [],
   "source": [
    "dict1 = {i:i**2 for i in range(4)}\n",
    "print(dict1)\n",
    "\n",
    "list1 = ['qqq','wwww','eee','rrrr','eeeee']\n",
    "list2 = [0, 2, 4, 6, 8]\n",
    "dict2 = {list1[i]:list2[i] for i in range(len(list1))}\n",
    "print(dict2)"
   ]
  },
  {
   "cell_type": "code",
   "execution_count": null,
   "id": "82704ca4",
   "metadata": {},
   "outputs": [],
   "source": [
    "dict1 = {'n':200,'a':202,'g':150,'wn':100,'b':302,'gl':950}\n",
    "count1 = {key:value for key,value in dict1.items() if value >= 200}\n",
    "print(count1)"
   ]
  },
  {
   "cell_type": "markdown",
   "id": "cbf1b1c3",
   "metadata": {},
   "source": [
    "## function"
   ]
  },
  {
   "cell_type": "code",
   "execution_count": null,
   "id": "1f5d4855",
   "metadata": {},
   "outputs": [],
   "source": [
    "def info_print():\n",
    "    print('hello world')\n",
    "\n",
    "info_print()"
   ]
  },
  {
   "cell_type": "code",
   "execution_count": null,
   "id": "5b5e63ae",
   "metadata": {},
   "outputs": [],
   "source": [
    "def two_sum(a,b):\n",
    "    \"\"\"\n",
    "    qqqqqqqqqq\n",
    "    \"\"\"\n",
    "    print(a+b)\n",
    "\n",
    "two_sum(10,4)\n",
    "help(two_sum)"
   ]
  },
  {
   "cell_type": "code",
   "execution_count": null,
   "id": "576742c8",
   "metadata": {},
   "outputs": [],
   "source": [
    "def buy():\n",
    "    return \"car\"\n",
    "goods = buy()\n",
    "print(goods)"
   ]
  },
  {
   "cell_type": "code",
   "execution_count": null,
   "id": "a646a9f7",
   "metadata": {},
   "outputs": [],
   "source": [
    "def car():\n",
    "    print(\"benz\")\n",
    "\n",
    "def buy():\n",
    "    print(\"car\")\n",
    "    car()\n",
    "    print(\"end\")\n",
    "buy()"
   ]
  },
  {
   "cell_type": "code",
   "execution_count": null,
   "id": "5768abd6",
   "metadata": {},
   "outputs": [],
   "source": [
    "def line():\n",
    "    print(\"-\"*20)\n",
    "def printline(num):\n",
    "    for i in range(num):\n",
    "        line()\n",
    "        \n",
    "printline(5)"
   ]
  },
  {
   "cell_type": "code",
   "execution_count": null,
   "id": "960bb963",
   "metadata": {},
   "outputs": [],
   "source": [
    "a = 100\n",
    "def test1():\n",
    "    print(\"test1\",a)\n",
    "test1()    \n",
    "def test2():\n",
    "    a = 200\n",
    "    print(\"test2\",a)\n",
    "    \n",
    "test2()\n",
    "print(\"a\",a)\n",
    "\n",
    "def test3():\n",
    "    global a \n",
    "    a = 200\n",
    "    print(\"test3\",a)\n",
    "test3()\n",
    "print(\"a\",a)"
   ]
  },
  {
   "cell_type": "code",
   "execution_count": null,
   "id": "cb724821",
   "metadata": {},
   "outputs": [],
   "source": [
    "def test1():\n",
    "    return 1   # return also means the def to stop so only return 1\n",
    "    return 2\n",
    "result1 = test1()\n",
    "print(result1)\n",
    "\n",
    "\n",
    "\n",
    "def test2():\n",
    "    return 1,3\n",
    "result2 = test2()\n",
    "print(result2)"
   ]
  },
  {
   "cell_type": "code",
   "execution_count": null,
   "id": "2c13eaae",
   "metadata": {},
   "outputs": [],
   "source": [
    "def test1(a,b,c,d):\n",
    "    print(f\"{a},{b},{c},{d}??\")\n",
    "test1(\"ee\",2334,\"333\",[12,45])"
   ]
  },
  {
   "cell_type": "code",
   "execution_count": null,
   "id": "9c0a5bbd",
   "metadata": {},
   "outputs": [],
   "source": [
    "def test1(a,b,c,d):\n",
    "    print(f\"{a},{b},{c},{d}??\")\n",
    "    \n",
    "test1(\"ee\",2334,\"333\",[12,45])    \n",
    "test1(a = \"ee\",b = 2334,c = \"333\",d = [12,45])\n",
    "test1(d = [12,45],c = \"333\",b = 2334,a = \"ee\")\n",
    "\n",
    "# if the var iable is labeled it doent matter where it is"
   ]
  },
  {
   "cell_type": "code",
   "execution_count": null,
   "id": "d6247769",
   "metadata": {},
   "outputs": [],
   "source": [
    "def info(name,age,gender = \"male\"):\n",
    "    print(f\"your name is {name},your age is {age},your gender is {gender}\")\n",
    "\n",
    "info(\"rr\",12)\n",
    "info(\"yyy\",34,gender = \"female\")"
   ]
  },
  {
   "cell_type": "code",
   "execution_count": null,
   "id": "ccda46d3",
   "metadata": {},
   "outputs": [],
   "source": [
    "# unknown input variables\n",
    "\n",
    "# using *data will return data as tuple\n",
    "# by adress\n",
    "def userinfo(*data):\n",
    "    print(data)\n",
    "\n",
    "userinfo(\"tom\")\n",
    "userinfo(\"tom\",18,\"ntu\")\n",
    "\n",
    "# using **data will return data as sets\n",
    "# by value\n",
    "def userinfo2(**data):\n",
    "    print(data)\n",
    "\n",
    "userinfo2(name = \"tom\")\n",
    "userinfo2(name = \"tom\",age = 18,school = \"ntu\")\n",
    "\n"
   ]
  },
  {
   "cell_type": "code",
   "execution_count": null,
   "id": "88de0852",
   "metadata": {},
   "outputs": [],
   "source": [
    "def userinfo():\n",
    "    return 100,300\n",
    "num1, num2 = userinfo()\n",
    "print(num1)\n",
    "print(num2)"
   ]
  },
  {
   "cell_type": "code",
   "execution_count": null,
   "id": "f1e19503",
   "metadata": {},
   "outputs": [],
   "source": [
    "dict1 = {'name': 'tom', 'age': 18, 'school': 'ntu'}\n",
    "a,b,c = dict1\n",
    "print(a)\n",
    "print(b)\n",
    "print(c)\n",
    "print(dict1[a])\n",
    "print(dict1[b])\n",
    "print(dict1[c])"
   ]
  },
  {
   "cell_type": "markdown",
   "id": "89f4227f",
   "metadata": {},
   "source": [
    "## 交换变量的值"
   ]
  },
  {
   "cell_type": "code",
   "execution_count": null,
   "id": "efbecd57",
   "metadata": {},
   "outputs": [],
   "source": [
    "a, b = 10, 20 \n",
    "a, b = b ,a\n",
    "print(a,b)"
   ]
  },
  {
   "cell_type": "markdown",
   "id": "6ce99722",
   "metadata": {},
   "source": [
    "## data adress"
   ]
  },
  {
   "cell_type": "code",
   "execution_count": null,
   "id": "bcae127b",
   "metadata": {},
   "outputs": [],
   "source": [
    "a = 1\n",
    "b = a\n",
    "\n",
    "print(a,b)\n",
    "print(\"id(a)=id(b)?\",id(a) == id(b))\n",
    "print(id(a))\n",
    "print(id(b))\n",
    "\n",
    "\n",
    "\n",
    "a = 2\n",
    "print(a,b)\n",
    "print(\"id(a)=id(b)?\",id(a) == id(b))\n",
    "print(id(a))\n",
    "print(id(b))\n",
    "\n",
    "# a changed but not b\n"
   ]
  },
  {
   "cell_type": "code",
   "execution_count": null,
   "id": "e7822b5a",
   "metadata": {},
   "outputs": [],
   "source": [
    "# list  ==  pass by adress\n",
    "# list.copy pass by value\n",
    "\n",
    "\n",
    "aa = [10,20]\n",
    "bb = aa\n",
    "cc = aa.copy()\n",
    "print(id(aa))\n",
    "print(id(bb))\n",
    "print(id(cc))\n",
    "print(\"id(aa)=id(bb)?\",id(aa) == id(bb))\n",
    "print(\"id(aa)=id(cc)?\",id(aa) == id(cc))\n",
    "print('--------------')\n",
    "\n",
    "\n",
    "aa.append(30)\n",
    "print(aa)\n",
    "print(bb)\n",
    "print(cc)\n",
    "print(id(aa))\n",
    "print(id(bb))\n",
    "print(id(cc))\n",
    "\n"
   ]
  },
  {
   "cell_type": "code",
   "execution_count": null,
   "id": "3f221ff2",
   "metadata": {},
   "outputs": [],
   "source": [
    "def test1(a):\n",
    "    print(a,id(a))\n",
    "    a += a\n",
    "    print(a,id(a))\n",
    "\n",
    "b = 100\n",
    "test1(b)\n",
    "c = [100,30]\n",
    "test1(c)"
   ]
  },
  {
   "cell_type": "markdown",
   "id": "294ba259",
   "metadata": {},
   "source": [
    "## 学员管理系统框架"
   ]
  },
  {
   "cell_type": "code",
   "execution_count": null,
   "id": "6ab3b69b",
   "metadata": {},
   "outputs": [],
   "source": [
    "info = []\n",
    "\n",
    "\n",
    "def infoprint():\n",
    "    print(\"selcet: \")\n",
    "    print(\"1: addinfo() \")\n",
    "    print(\"2: delinfo \")\n",
    "    print(\"3: modifyinfo \")\n",
    "    print(\"4: searchinfo \")\n",
    "    print(\"5: printall \")\n",
    "    print(\"6: exit \")\n",
    "    \n",
    "    print(\"-\"*20)\n",
    "\n",
    "    \n",
    "    \n",
    "def addinfo():\n",
    "    new_id = input(\"id:\")\n",
    "    new_name = input(\"name:\")\n",
    "    new_tel = input(\"telphone:\")\n",
    "    global info\n",
    "    for i in info:\n",
    "        if  new_name == i[\"name\"]:\n",
    "            print(\"exist\")\n",
    "            \n",
    "    \n",
    "    info_dict = {}\n",
    "    info_dict[\"id\"] = new_id\n",
    "    info_dict[\"name\"] = new_name\n",
    "    info_dict[\"telphone\"] = new_tel\n",
    "    \n",
    "    info.append(info_dict)\n",
    "    print(info)\n",
    "\n",
    "def delinfo():\n",
    "    delname = input(\"del name: \")\n",
    "    global info\n",
    "    for i in info:\n",
    "        if  delname  == i[\"name\"]:\n",
    "            info.remove(i)\n",
    "            break\n",
    "    print(info)\n",
    "\n",
    "def modifyinfo():\n",
    "    modname = input(\"modify name : \")\n",
    "    global info\n",
    "    for i in info:\n",
    "        if  modname  == i[\"name\"]:\n",
    "            i[\"telphone\"] = input(\"new phone\")\n",
    "            break\n",
    "        else:\n",
    "            print(\"doesn't exist\")\n",
    "    print(info)\n",
    "    \n",
    "def searchinfo():\n",
    "    searchname = input(\"search name : \")\n",
    "    global info\n",
    "    for i in info:\n",
    "        if  searchname  == i[\"name\"]:\n",
    "            print(\"the student information is :\")\n",
    "            print(f'name: { i[\"name\"] }, id: {i[\"id\"]}, phone: {i[\"telphone\"]} ')\n",
    "            break\n",
    "        else:\n",
    "            print(\"doesn't exist\")\n",
    "    print(info)    \n",
    "    \n",
    "def printall():\n",
    "    for i in info:\n",
    "        print(f'name: { i[\"name\"] }, id: {i[\"id\"]}, phone: {i[\"telphone\"]} ')\n",
    "        \n",
    "\n",
    "while True:\n",
    "    infoprint()\n",
    "    usernum = int(input(\"enter num: \"))\n",
    "    if usernum == 1:\n",
    "        print(\"addinfo()\")\n",
    "        addinfo()\n",
    "    elif usernum == 2:\n",
    "        print(\"delinfo \")\n",
    "        delinfo()\n",
    "    elif usernum == 3:\n",
    "        print(\"3: modifyinfo \")\n",
    "        modifyinfo()\n",
    "    elif usernum == 4:\n",
    "        print(\"4: searchinfo \")\n",
    "        searchinfo()\n",
    "    elif usernum == 5:\n",
    "        print(\"5: printall \")\n",
    "        printall()    \n",
    "    elif usernum == 6:\n",
    "        exitflag = input(\"exit? y/n\")\n",
    "        if exitflag == 'y':\n",
    "            break  \n",
    "    else:\n",
    "        print(\"error, reselect\")"
   ]
  },
  {
   "cell_type": "markdown",
   "id": "f24a3026",
   "metadata": {},
   "source": [
    "## 递归"
   ]
  },
  {
   "cell_type": "code",
   "execution_count": null,
   "id": "43a4272a",
   "metadata": {},
   "outputs": [],
   "source": [
    "def sum_num(num):\n",
    "    if num == 1:\n",
    "        return 1\n",
    "    return num + sum_num(num - 1)\n",
    "\n",
    "result = sum_num(5)\n",
    "print(result )"
   ]
  },
  {
   "cell_type": "markdown",
   "id": "a3c03b1d",
   "metadata": {},
   "source": [
    "## lambda"
   ]
  },
  {
   "cell_type": "code",
   "execution_count": null,
   "id": "c168989b",
   "metadata": {},
   "outputs": [],
   "source": [
    "# lamda can take alot of variables bot can only return one value\n",
    "\n",
    "def fn1():\n",
    "    return 200\n",
    "\n",
    "print(fn1)\n",
    "print(fn1())\n",
    "print('----------')\n",
    "\n",
    "fn2 = lambda: 100\n",
    "print(fn2)\n",
    "print(fn2())\n",
    "\n"
   ]
  },
  {
   "cell_type": "code",
   "execution_count": null,
   "id": "70ac77f1",
   "metadata": {},
   "outputs": [],
   "source": [
    "fn1 = lambda a,b: a+b\n",
    "print(fn1(1,2))"
   ]
  },
  {
   "cell_type": "code",
   "execution_count": 5,
   "id": "d934b450",
   "metadata": {},
   "outputs": [
    {
     "name": "stdout",
     "output_type": "stream",
     "text": [
      "100\n",
      "11\n",
      "103\n",
      "fn3_1  104\n",
      "(1, 2)\n",
      "{'name': 'python', 'age': 0}\n"
     ]
    }
   ],
   "source": [
    "# no var\n",
    "fn1 = lambda: 100\n",
    "print(fn1())\n",
    "\n",
    "# one var \n",
    "fn2 = lambda a: a+10\n",
    "print(fn2(1))\n",
    "\n",
    "# decided var\n",
    "fn3 = lambda a,b,c = 100: a+b+c\n",
    "print(fn3(1,2))\n",
    "fn3_1 = lambda k: fn3(k,2)\n",
    "print('fn3_1 ',fn3_1(2))\n",
    "\n",
    "# changeable var.  *args\n",
    "fn4 = lambda *args: args\n",
    "print(fn4(1,2))\n",
    "\n",
    "# changeable var.  **kwargs\n",
    "fn5 = lambda **kwargs: kwargs\n",
    "print(fn5(name = \"python\",age = 0))\n",
    "\n"
   ]
  },
  {
   "cell_type": "code",
   "execution_count": null,
   "id": "7cca0e5a",
   "metadata": {},
   "outputs": [],
   "source": [
    "list1 = [1,2,3,4,5]\n",
    "\n",
    "def func(x):\n",
    "    return x**2\n",
    "\n",
    "result = map(func,list1)\n",
    "print(result)\n",
    "print(list(result))\n"
   ]
  },
  {
   "cell_type": "code",
   "execution_count": null,
   "id": "6296456f",
   "metadata": {},
   "outputs": [],
   "source": [
    "import functools\n",
    "\n",
    "list1 = [1,2,3,4,5]\n",
    "\n",
    "def func(a,b):\n",
    "    return a+b\n",
    "\n",
    "result = functools.reduce(func,list1)\n",
    "print(result)\n",
    "\n",
    "# reduce() func 會持續和下一個元素作累積計算"
   ]
  },
  {
   "cell_type": "code",
   "execution_count": null,
   "id": "18282552",
   "metadata": {},
   "outputs": [],
   "source": [
    "list1 = [1,2,3,4,5,6,7,8,9,10]\n",
    "\n",
    "def func(x):\n",
    "    return x%2 == 0\n",
    "\n",
    "\n",
    "result = filter(func,list1)\n",
    "print(result)\n",
    "print(list(result))\n",
    "# filter() func 會過濾不符合的元素然後返回一個符合的對象"
   ]
  },
  {
   "cell_type": "markdown",
   "id": "532e255e",
   "metadata": {},
   "source": [
    "## 文件操作"
   ]
  },
  {
   "cell_type": "code",
   "execution_count": null,
   "id": "e84f29d3",
   "metadata": {},
   "outputs": [],
   "source": [
    "f = open('test1.txt','w')\n",
    "f.write('qqq'+'\\n')\n",
    "f.write('chocolate\\n')\n",
    "f.write('[1,2,3,4,5]')\n",
    "f.close()"
   ]
  },
  {
   "cell_type": "code",
   "execution_count": null,
   "id": "78878a35",
   "metadata": {},
   "outputs": [],
   "source": [
    "f = open('test1.txt','r')\n",
    "print(f.read())\n",
    "f.close()"
   ]
  },
  {
   "cell_type": "code",
   "execution_count": null,
   "id": "9784ea96",
   "metadata": {},
   "outputs": [],
   "source": [
    "# readlines()  return as list\n",
    "\n",
    "f = open('test1.txt')\n",
    "content = f.readlines()\n",
    "print(content)\n",
    "f.close()"
   ]
  },
  {
   "cell_type": "code",
   "execution_count": null,
   "id": "a3cd877a",
   "metadata": {},
   "outputs": [],
   "source": [
    "####  to be continued "
   ]
  },
  {
   "cell_type": "code",
   "execution_count": null,
   "id": "d4824633",
   "metadata": {},
   "outputs": [],
   "source": []
  },
  {
   "cell_type": "code",
   "execution_count": null,
   "id": "88daa840",
   "metadata": {},
   "outputs": [],
   "source": []
  },
  {
   "cell_type": "code",
   "execution_count": null,
   "id": "eb2a9a3a",
   "metadata": {},
   "outputs": [],
   "source": []
  },
  {
   "cell_type": "markdown",
   "id": "6bd1ad5b",
   "metadata": {},
   "source": [
    "## 类和对象"
   ]
  },
  {
   "cell_type": "code",
   "execution_count": null,
   "id": "f459a4ab",
   "metadata": {},
   "outputs": [],
   "source": [
    "class Washer():\n",
    "    def wash(self):\n",
    "        print('能洗衣服')\n",
    "\n",
    "x = Washer()\n",
    "print(x)\n",
    "\n",
    "\n",
    "x.wash()\n"
   ]
  },
  {
   "cell_type": "code",
   "execution_count": null,
   "id": "11970ea3",
   "metadata": {
    "scrolled": true
   },
   "outputs": [],
   "source": [
    "class Washer():\n",
    "    def wash(self):\n",
    "        print('能洗衣服')\n",
    "        print(self)\n",
    "\n",
    "x = Washer()\n",
    "x.wash()\n",
    "\n",
    "x1 = Washer()\n",
    "x1.wash()\n",
    "\n",
    "# adress is different"
   ]
  },
  {
   "cell_type": "code",
   "execution_count": null,
   "id": "7dc11fec",
   "metadata": {},
   "outputs": [],
   "source": [
    "class Washer():\n",
    "    def wash(self):\n",
    "        print('能洗衣服')\n",
    "        print(self)\n",
    "    def printinfo(self):\n",
    "        print(f'width is {self.width }')\n",
    "        print(f'height is {self.height}')\n",
    "        \n",
    "\n",
    "x = Washer()\n",
    "x.wash()\n",
    "x.width = 100\n",
    "x.height = 300\n",
    "print(x.width)\n",
    "\n",
    "x.printinfo()\n",
    "# adress is different"
   ]
  },
  {
   "cell_type": "markdown",
   "id": "1ccfb49b",
   "metadata": {},
   "source": [
    "### __init__"
   ]
  },
  {
   "cell_type": "code",
   "execution_count": null,
   "id": "ebbd1f31",
   "metadata": {},
   "outputs": [],
   "source": [
    "# __init__() 初始化對象\n",
    "class Washer():\n",
    "    def __init__(self,width,height):\n",
    "        self.width = width\n",
    "        self.height = height\n",
    "        \n",
    "        \n",
    "    def wash(self):\n",
    "        print('能洗衣服')\n",
    "        print(self)\n",
    "    def printinfo(self):\n",
    "        print(f'width is {self.width }')\n",
    "        print(f'height is {self.height}')\n",
    "\n",
    "        \n",
    "        \n",
    "x = Washer(100,200)\n",
    "\n",
    "x.printinfo()\n",
    "\n",
    "print('---'*20)\n",
    "x.width = 1000\n",
    "x.height = 3000\n",
    "x.printinfo()\n",
    "\n",
    "print('---'*20)\n",
    "x2 = Washer(1000,2000)\n",
    "\n",
    "x2.printinfo()"
   ]
  },
  {
   "cell_type": "code",
   "execution_count": null,
   "id": "564b95a8",
   "metadata": {},
   "outputs": [],
   "source": [
    "# __str__()\n",
    "\n",
    "class Washer():\n",
    "    def __init__(self,width,height):\n",
    "        self.width = width\n",
    "        self.height = height\n",
    "    def __str__(self):\n",
    "        return \"this is my washer\"\n",
    "    \n",
    "x = Washer(100,200)\n",
    "print(x)\n"
   ]
  },
  {
   "cell_type": "code",
   "execution_count": null,
   "id": "85da9426",
   "metadata": {},
   "outputs": [],
   "source": [
    "# __del__() 刪除對象時 也會默默認用del\n",
    "\n",
    "class Washer():\n",
    "    def __init__(self,width,height):\n",
    "        self.width = width\n",
    "        self.height = height\n",
    "    def __str__(self):\n",
    "        return \"this is my washer\"\n",
    "    def __del__(self):\n",
    "        print(f'{self} is deleted')\n",
    "x = Washer(100,200)\n",
    "print(x)\n",
    "print('---'*20)\n",
    "del x"
   ]
  },
  {
   "cell_type": "markdown",
   "id": "eb973d54",
   "metadata": {},
   "source": [
    "## 烤地瓜"
   ]
  },
  {
   "cell_type": "code",
   "execution_count": 3,
   "id": "56e93b9b",
   "metadata": {},
   "outputs": [
    {
     "name": "stdout",
     "output_type": "stream",
     "text": [
      "the potato has cooked 0 minutes, its state is raw, added spices are []\n",
      "the potato has cooked 2 minutes, its state is raw, added spices are ['chili']\n",
      "the potato has cooked 4 minutes, its state is half raw, added spices are ['chili', 'salt']\n"
     ]
    }
   ],
   "source": [
    "class potato():\n",
    "    def __init__(self):\n",
    "        self.cooktime = 0\n",
    "        self.cookstate = 'raw'\n",
    "        self.spices = []\n",
    "    def cook(self,time):\n",
    "        self.cooktime += time;\n",
    "        if 0 <= self.cooktime < 3:\n",
    "            self.cookstate = 'raw'\n",
    "        elif 3 <= self.cooktime < 5:\n",
    "            self.cookstate = 'half raw'\n",
    "        elif 5 <= self.cooktime < 8:\n",
    "            self.cookstate = 'cooked'           \n",
    "        elif 8 <= self.cooktime :\n",
    "            self.cookstate = 'over cooked'\n",
    "    def add_spices(self,spices):\n",
    "        self.spices.append(spices)\n",
    "            \n",
    "            \n",
    "            \n",
    "            \n",
    "            \n",
    "            \n",
    "            \n",
    "    def __str__(self):\n",
    "        return f'the potato has cooked {self.cooktime} minutes, its state is {self.cookstate}, added spices are {self.spices}'\n",
    "        \n",
    "        \n",
    "potato1 = potato()\n",
    "print(potato1)\n",
    "\n",
    "potato1.cook(2)\n",
    "potato1.add_spices('chili')\n",
    "print(potato1)\n",
    "\n",
    "potato1.cook(2)\n",
    "potato1.add_spices('salt')\n",
    "print(potato1)"
   ]
  },
  {
   "cell_type": "markdown",
   "id": "5c00a675",
   "metadata": {},
   "source": [
    "## 搬家具"
   ]
  },
  {
   "cell_type": "code",
   "execution_count": 8,
   "id": "94eabfd9",
   "metadata": {},
   "outputs": [
    {
     "name": "stdout",
     "output_type": "stream",
     "text": [
      "the homes adress is taipei, area is 12, free area is 12, has furniture []\n",
      "the homes adress is taipei, area is 12, free area is 6, has furniture ['bed']\n",
      "the homes adress is taipei, area is 12, free area is 3, has furniture ['bed', 'sofa']\n",
      "furniture too large, cant fit\n",
      "the homes adress is taipei, area is 12, free area is 3, has furniture ['bed', 'sofa']\n"
     ]
    }
   ],
   "source": [
    "class furniture():\n",
    "    def __init__(self,name,area):\n",
    "        self.name = name\n",
    "        self.area = area\n",
    "        \n",
    "class home():\n",
    "    def __init__(self,adress,area):\n",
    "        self.adress = adress\n",
    "        self.area = area\n",
    "        self.freearea = area\n",
    "        self.furniture = []\n",
    "    def __str__(self):\n",
    "        return f'the homes adress is {self.adress}, area is {self.area}, free area is {self.freearea}, has furniture {self.furniture}'\n",
    "    \n",
    "    def addfurniture(self,item):\n",
    "        if self.freearea >= item.area:\n",
    "            self.furniture.append(item.name)\n",
    "            self.freearea -= item.area\n",
    "        else:\n",
    "            print(\"furniture too large, cant fit\")\n",
    "    \n",
    "    \n",
    "bed = furniture('bed',6)\n",
    "sofa = furniture('sofa',3)\n",
    "tv = furniture('tv',4)\n",
    "\n",
    "home1 = home(\"taipei\",12)\n",
    "print(home1)\n",
    "home1.addfurniture(bed)\n",
    "print(home1)\n",
    "home1.addfurniture(sofa)\n",
    "print(home1)\n",
    "home1.addfurniture(tv )\n",
    "print(home1)"
   ]
  },
  {
   "cell_type": "markdown",
   "id": "d290b0c4",
   "metadata": {},
   "source": [
    "## 继承\n"
   ]
  },
  {
   "cell_type": "code",
   "execution_count": 9,
   "id": "d148c8e1",
   "metadata": {},
   "outputs": [
    {
     "name": "stdout",
     "output_type": "stream",
     "text": [
      "1\n"
     ]
    }
   ],
   "source": [
    "class A(object):\n",
    "    def __init__(self):\n",
    "        self.num = 1\n",
    "    def infoprint(self):\n",
    "        print(self.num)\n",
    "\n",
    "        \n",
    "        \n",
    "class B(A):\n",
    "    pass \n",
    "\n",
    "redult = B()\n",
    "redult.infoprint()\n",
    "    \n",
    "    \n",
    "    \n",
    "    \n",
    "    \n",
    "    "
   ]
  },
  {
   "cell_type": "markdown",
   "id": "4a47c7f8",
   "metadata": {},
   "source": [
    "### 单继承"
   ]
  },
  {
   "cell_type": "code",
   "execution_count": null,
   "id": "6815696b",
   "metadata": {},
   "outputs": [],
   "source": [
    "class A(object):\n",
    "    def __init__(self):\n",
    "        self.num = 1\n",
    "        \n",
    "        \n",
    "    def infoprint(self):\n",
    "        print(self.num)\n",
    "\n",
    "        \n",
    "        \n",
    "class B(A):\n",
    "    pass \n",
    "\n",
    "redult = B()\n",
    "redult.infoprint()"
   ]
  },
  {
   "cell_type": "markdown",
   "id": "3056aa8d",
   "metadata": {},
   "source": [
    "### 多继承"
   ]
  },
  {
   "cell_type": "code",
   "execution_count": 15,
   "id": "0d9e1557",
   "metadata": {},
   "outputs": [
    {
     "name": "stdout",
     "output_type": "stream",
     "text": [
      "ak47\n",
      "ak47\n"
     ]
    }
   ],
   "source": [
    "class master(object):\n",
    "    def __init__(self):\n",
    "        self.skill = \"ak47\"\n",
    "        \n",
    "    def infoprint(self):\n",
    "        print(self.skill)\n",
    "\n",
    "               \n",
    "class school(object):\n",
    "    def __init__(self):\n",
    "        self.skill = \"m16\"\n",
    "        \n",
    "    def infoprint(self):\n",
    "        print(self.skill)   \n",
    "        \n",
    "        \n",
    "class learn(master, school):\n",
    "    pass\n",
    "\n",
    "\n",
    "student = learn()\n",
    "print(student.skill)\n",
    "student.infoprint()"
   ]
  },
  {
   "cell_type": "markdown",
   "id": "e4cfd1d2",
   "metadata": {},
   "source": [
    "### 子类重写父类同名属性和方法"
   ]
  },
  {
   "cell_type": "code",
   "execution_count": 16,
   "id": "da82e969",
   "metadata": {},
   "outputs": [
    {
     "name": "stdout",
     "output_type": "stream",
     "text": [
      "mp5\n",
      "i know how to use mp5\n"
     ]
    }
   ],
   "source": [
    "class master(object):\n",
    "    def __init__(self):\n",
    "        self.skill = \"ak47\"\n",
    "        \n",
    "    def infoprint(self):\n",
    "        print(f'i know how to use {self.skill}')\n",
    "\n",
    "               \n",
    "class school(object):\n",
    "    def __init__(self):\n",
    "        self.skill = \"m16\"\n",
    "        \n",
    "    def infoprint(self):\n",
    "        print(f'i know how to use {self.skill}')   \n",
    "        \n",
    "        \n",
    "class learn(master, school):\n",
    "    def __init__(self):\n",
    "        self.skill = \"mp5\"\n",
    "        \n",
    "    def infoprint(self):\n",
    "        print(f'i know how to use {self.skill}')    \n",
    "\n",
    "\n",
    "student = learn()\n",
    "print(student.skill)\n",
    "student.infoprint()"
   ]
  },
  {
   "cell_type": "markdown",
   "id": "da83441c",
   "metadata": {},
   "source": [
    "### 子类调用父类同名方法和属性"
   ]
  },
  {
   "cell_type": "code",
   "execution_count": 21,
   "id": "53eb95cf",
   "metadata": {},
   "outputs": [
    {
     "name": "stdout",
     "output_type": "stream",
     "text": [
      "i know how to use mp5\n",
      "mp5\n",
      "----------------------------------------\n",
      "i know how to use ak47\n",
      "ak47\n",
      "----------------------------------------\n",
      "i know how to use m16\n",
      "m16\n",
      "----------------------------------------\n",
      "student2\n",
      "i know how to use mp5\n",
      "i know how to use ak47\n",
      "i know how to use m16\n"
     ]
    }
   ],
   "source": [
    "class master(object):\n",
    "    def __init__(self):\n",
    "        self.skill = \"ak47\"\n",
    "        \n",
    "    def use_skill(self):\n",
    "        print(f'i know how to use {self.skill}')\n",
    "\n",
    "               \n",
    "class school(object):\n",
    "    def __init__(self):\n",
    "        self.skill = \"m16\"\n",
    "        \n",
    "    def use_skill(self):\n",
    "        print(f'i know how to use {self.skill}')   \n",
    "        \n",
    "        \n",
    "class learn(master, school):\n",
    "    def __init__(self):\n",
    "        self.skill = \"mp5\"\n",
    "        \n",
    "    def use_skill(self):\n",
    "    #如果先調用了服類的屬性和方法，父類的屬性會覆蓋子類屬性，故在調用屬性前，\n",
    "    #先調用自己子類子累的初始化\n",
    "        self.__init__()\n",
    "        print(f'i know how to use {self.skill}')  \n",
    "    \n",
    "    # 調用父類方法但是為保證掉用到的也是服類的屬信,必須在調用方法前調用父累的初始化\n",
    "    def use_master_skill(self):\n",
    "        master.__init__(self)\n",
    "        master.use_skill(self)\n",
    "        \n",
    "    def use_school_skill(self):\n",
    "        school.__init__(self)\n",
    "        school.use_skill(self)\n",
    "\n",
    "class second_gen(learn):\n",
    "    pass\n",
    "# -------------------------------\n",
    "student = learn()\n",
    "\n",
    "\n",
    "student.use_skill()\n",
    "print(student.skill)\n",
    "print('--'*20)\n",
    "\n",
    "\n",
    "student.use_master_skill()\n",
    "print(student.skill)\n",
    "print('--'*20)\n",
    "\n",
    "\n",
    "student.use_school_skill()\n",
    "print(student.skill)\n",
    "print('--'*20)\n",
    "\n",
    "\n",
    "# 多层继承\n",
    "# -------------------------------\n",
    "print(\"student2\")\n",
    "student2 = second_gen()\n",
    "student2.use_skill()\n",
    "student2.use_master_skill()\n",
    "student2.use_school_skill()"
   ]
  },
  {
   "cell_type": "markdown",
   "id": "af625bd4",
   "metadata": {},
   "source": [
    "### super方法作用"
   ]
  },
  {
   "cell_type": "code",
   "execution_count": 28,
   "id": "da58ec3e",
   "metadata": {},
   "outputs": [
    {
     "name": "stdout",
     "output_type": "stream",
     "text": [
      "i know how to use m16\n",
      "i know how to use ak47\n",
      "ak47\n",
      "----------------------------------------\n"
     ]
    }
   ],
   "source": [
    "class master(object):\n",
    "    def __init__(self):\n",
    "        self.skill = \"ak47\"\n",
    "        \n",
    "    def use_skill(self):\n",
    "        print(f'i know how to use {self.skill}')\n",
    "\n",
    "               \n",
    "class school(master):\n",
    "    def __init__(self):\n",
    "        self.skill = \"m16\"\n",
    "        \n",
    "    def use_skill(self):\n",
    "        print(f'i know how to use {self.skill}')   \n",
    "        \n",
    "        # by putting super here we can do both school and master ,\n",
    "        # but if we dont. ther will only be school\n",
    "        super().__init__()\n",
    "        super().use_skill()  \n",
    "        \n",
    "class learn(school):\n",
    "    def __init__(self):\n",
    "        self.skill = \"mp5\"\n",
    "        \n",
    "    def use_skill(self):\n",
    "    #如果先調用了服類的屬性和方法，父類的屬性會覆蓋子類屬性，故在調用屬性前，\n",
    "    #先調用自己子類子累的初始化\n",
    "        self.__init__()\n",
    "        print(f'i know how to use {self.skill}')  \n",
    "    \n",
    "    # 調用父類方法但是為保證掉用到的也是服類的屬信,必須在調用方法前調用父累的初始化\n",
    "    def use_master_skill(self):\n",
    "        master.__init__(self)\n",
    "        master.use_skill(self)\n",
    "        \n",
    "    def use_school_skill(self):\n",
    "        school.__init__(self)\n",
    "        school.use_skill(self)\n",
    "        \n",
    "    def make_old_cake(self):\n",
    "        \"\"\"\n",
    "        方法一： code 太冗，需要平凡改\n",
    "                \n",
    "        school.__init__(self)\n",
    "        school.use_skill(self)\n",
    "        master.__init__(self)\n",
    "        master.use_skill(self)\n",
    "        \"\"\"\n",
    "        \n",
    "        \n",
    "        \"\"\"\n",
    "        方法二：super()\n",
    "        super(learn,self).__init__()\n",
    "        super(learn,self).use_skill()\n",
    "        \n",
    "        now we dont need so hard \n",
    "        super().__init__()\n",
    "        super().use_skill()             \n",
    "        \"\"\"\n",
    "        super().__init__()\n",
    "        super().use_skill()\n",
    "\n",
    "\n",
    "\n",
    "student = learn()\n",
    "\n",
    "\n",
    "student.make_old_cake()\n",
    "print(student.skill)\n",
    "print('--'*20)\n"
   ]
  },
  {
   "cell_type": "markdown",
   "id": "45bc9d24",
   "metadata": {},
   "source": [
    "### private"
   ]
  },
  {
   "cell_type": "code",
   "execution_count": 4,
   "id": "163e0931",
   "metadata": {},
   "outputs": [
    {
     "ename": "AttributeError",
     "evalue": "'second_gen' object has no attribute '__info_print'",
     "output_type": "error",
     "traceback": [
      "\u001b[0;31m---------------------------------------------------------------------------\u001b[0m",
      "\u001b[0;31mAttributeError\u001b[0m                            Traceback (most recent call last)",
      "\u001b[0;32m/var/folders/zl/whn4wn617zx2w7kcvhl0yy5r0000gn/T/ipykernel_6103/798732163.py\u001b[0m in \u001b[0;36m<module>\u001b[0;34m\u001b[0m\n\u001b[1;32m     46\u001b[0m \u001b[0;31m# print(student2.money) no attribute 'money'\u001b[0m\u001b[0;34m\u001b[0m\u001b[0;34m\u001b[0m\u001b[0m\n\u001b[1;32m     47\u001b[0m \u001b[0;31m#print(student2.__money)\u001b[0m\u001b[0;34m\u001b[0m\u001b[0;34m\u001b[0m\u001b[0m\n\u001b[0;32m---> 48\u001b[0;31m \u001b[0mstudent2\u001b[0m\u001b[0;34m.\u001b[0m\u001b[0m__info_print\u001b[0m\u001b[0;34m(\u001b[0m\u001b[0;34m)\u001b[0m\u001b[0;34m\u001b[0m\u001b[0;34m\u001b[0m\u001b[0m\n\u001b[0m",
      "\u001b[0;31mAttributeError\u001b[0m: 'second_gen' object has no attribute '__info_print'"
     ]
    }
   ],
   "source": [
    "class master(object):\n",
    "    def __init__(self):\n",
    "        self.skill = \"ak47\"\n",
    "        \n",
    "    def use_skill(self):\n",
    "        print(f'i know how to use {self.skill}')\n",
    "\n",
    "               \n",
    "class school(object):\n",
    "    def __init__(self):\n",
    "        self.skill = \"m16\"\n",
    "        \n",
    "    def use_skill(self):\n",
    "        print(f'i know how to use {self.skill}')   \n",
    "\n",
    "        \n",
    "        \n",
    "class learn(school,master):\n",
    "    def __init__(self):\n",
    "        self.skill = \"mp5\"\n",
    "        self.__money = 10000 # __ in front of money making this private \n",
    "        \n",
    "    def use_skill(self):\n",
    "\n",
    "        self.__init__()\n",
    "        print(f'i know how to use {self.skill}')  \n",
    "    \n",
    "    def __info_print(self):  # __ in front of money making this private \n",
    "        print(self.skill)\n",
    "        print(self.__money)\n",
    "        \n",
    "    \n",
    "    def use_master_skill(self):\n",
    "        master.__init__(self)\n",
    "        master.use_skill(self)\n",
    "        \n",
    "    def use_school_skill(self):\n",
    "        school.__init__(self)\n",
    "        school.use_skill(self) \n",
    "        \n",
    "        \n",
    "class second_gen(learn):\n",
    "    pass\n",
    "\n",
    "student2 = second_gen()\n",
    "# print(student2.money) no attribute 'money'\n",
    "#print(student2.__money)\n",
    "#student2.__info_print()"
   ]
  },
  {
   "cell_type": "markdown",
   "id": "955f1337",
   "metadata": {},
   "source": [
    "### 获取和修改私有属性值"
   ]
  },
  {
   "cell_type": "code",
   "execution_count": 6,
   "id": "d15a43fb",
   "metadata": {},
   "outputs": [
    {
     "name": "stdout",
     "output_type": "stream",
     "text": [
      "10000\n",
      "500\n"
     ]
    }
   ],
   "source": [
    "# get_xx to get private info\n",
    "# set_xx to modify private info\n",
    "\n",
    "class master(object):\n",
    "    def __init__(self):\n",
    "        self.skill = \"ak47\"\n",
    "        \n",
    "    def use_skill(self):\n",
    "        print(f'i know how to use {self.skill}')\n",
    "\n",
    "               \n",
    "class school(object):\n",
    "    def __init__(self):\n",
    "        self.skill = \"m16\"\n",
    "        \n",
    "    def use_skill(self):\n",
    "        print(f'i know how to use {self.skill}')   \n",
    "\n",
    "        \n",
    "        \n",
    "class learn(school,master):\n",
    "    def __init__(self):\n",
    "        self.skill = \"mp5\"\n",
    "        self.__money = 10000 # __ in front of money making this private \n",
    "        \n",
    "    def use_skill(self):\n",
    "\n",
    "        self.__init__()\n",
    "        print(f'i know how to use {self.skill}')  \n",
    "        \n",
    "    def get_money(self):\n",
    "        return self.__money\n",
    "    \n",
    "    def set_money(self):\n",
    "        self.__money = 500\n",
    "    \n",
    "    def __info_print(self):  # __ in front of money making this private \n",
    "        print(self.skill)\n",
    "        print(self.__money)\n",
    "        \n",
    "    \n",
    "    def use_master_skill(self):\n",
    "        master.__init__(self)\n",
    "        master.use_skill(self)\n",
    "        \n",
    "    def use_school_skill(self):\n",
    "        school.__init__(self)\n",
    "        school.use_skill(self) \n",
    "        \n",
    "        \n",
    "class second_gen(learn):\n",
    "    pass\n",
    "\n",
    "student2 = second_gen()\n",
    "# print(student2.money) no attribute 'money'\n",
    "#print(student2.__money)\n",
    "#student2.__info_print()\n",
    "\n",
    "print(student2.get_money())  # use get to obtain private \n",
    "student2.set_money()\n",
    "print(student2.get_money())"
   ]
  },
  {
   "cell_type": "markdown",
   "id": "c8c30a6b",
   "metadata": {},
   "source": [
    "### 体验多态"
   ]
  },
  {
   "cell_type": "code",
   "execution_count": 15,
   "id": "fe2813fe",
   "metadata": {},
   "outputs": [
    {
     "name": "stdout",
     "output_type": "stream",
     "text": [
      "attack enemy\n",
      "None\n",
      "hunt and attack enemy\n",
      "None\n",
      "attack enemy\n",
      "None\n",
      "hunt and attack enemy\n",
      "None\n"
     ]
    }
   ],
   "source": [
    "class dog(object):\n",
    "    def work(self):\n",
    "        print('attack enemy')\n",
    "        \n",
    "class armydog(dog):\n",
    "    def work(self):\n",
    "        print('hunt and attack enemy')\n",
    "\n",
    "class drugdog(dog):\n",
    "    def work(self):\n",
    "        print('find drug')\n",
    "        \n",
    "class human(object):\n",
    "    def work_with_dogs(self,dog):\n",
    "        dog.work()\n",
    "        \n",
    "a = dog()\n",
    "b = armydog()\n",
    "\n",
    "me = human()\n",
    "\n",
    "print(a.work())\n",
    "print(b.work())\n",
    "print(me.work_with_dogs(a))\n",
    "print(me.work_with_dogs(b))"
   ]
  },
  {
   "cell_type": "markdown",
   "id": "4f455e5b",
   "metadata": {},
   "source": [
    "### 设置和访问类属性"
   ]
  },
  {
   "cell_type": "code",
   "execution_count": 17,
   "id": "b1c69511",
   "metadata": {},
   "outputs": [
    {
     "name": "stdout",
     "output_type": "stream",
     "text": [
      "10\n",
      "10\n",
      "10\n",
      "------------------------------\n",
      "20\n",
      "20\n",
      "20\n",
      "------------------------------\n",
      "20\n",
      "30\n",
      "20\n",
      "------------------------------\n"
     ]
    }
   ],
   "source": [
    "class dog():\n",
    "    toothcount = 10\n",
    "    \n",
    "    \n",
    "a = dog()\n",
    "b = dog()\n",
    "print(dog.toothcount)\n",
    "print(a.toothcount)\n",
    "print(b.toothcount)\n",
    "print('-'*30)\n",
    "\n",
    "dog.toothcount = 20\n",
    "print(dog.toothcount)\n",
    "print(a.toothcount)\n",
    "print(b.toothcount)\n",
    "print('-'*30)\n",
    "\n",
    "a.toothcount = 30\n",
    "print(dog.toothcount)\n",
    "print(a.toothcount)\n",
    "print(b.toothcount)\n",
    "print('-'*30)"
   ]
  },
  {
   "cell_type": "markdown",
   "id": "46e6d894",
   "metadata": {},
   "source": [
    "### 类方法"
   ]
  },
  {
   "cell_type": "code",
   "execution_count": 19,
   "id": "c1f29e50",
   "metadata": {},
   "outputs": [
    {
     "name": "stdout",
     "output_type": "stream",
     "text": [
      "10\n",
      "------------------------------\n"
     ]
    }
   ],
   "source": [
    "class dog():\n",
    "    __tooth = 10  # private 類屬性\n",
    "    \n",
    "    def get_tooth(cls):\n",
    "        return cls.__tooth   # class private \n",
    "    \n",
    "a = dog()\n",
    "\n",
    "print(a.get_tooth())\n",
    "\n",
    "print('-'*30)"
   ]
  },
  {
   "cell_type": "markdown",
   "id": "f358e851",
   "metadata": {},
   "source": [
    "### 静态方法"
   ]
  },
  {
   "cell_type": "code",
   "execution_count": 22,
   "id": "bff3afdd",
   "metadata": {},
   "outputs": [
    {
     "name": "stdout",
     "output_type": "stream",
     "text": [
      "this is a dog\n",
      "this is a dog\n"
     ]
    }
   ],
   "source": [
    "\"\"\"\n",
    "static :\n",
    "\n",
    "use @staticmethod, there is no self or cls\n",
    "\n",
    "\n",
    "\"\"\"\n",
    "\n",
    "class dog():\n",
    "    \n",
    "    #static method\n",
    "    \n",
    "    @staticmethod  \n",
    "    # if we dont write this line ,error , this way we dont need to write self\n",
    "    \n",
    "    def infoprint():\n",
    "        print('this is a dog')\n",
    "        \n",
    "a = dog()\n",
    "a.infoprint()\n",
    "dog.infoprint()"
   ]
  },
  {
   "cell_type": "markdown",
   "id": "8bc8f055",
   "metadata": {},
   "source": [
    "## import"
   ]
  },
  {
   "cell_type": "code",
   "execution_count": 23,
   "id": "6179ce8f",
   "metadata": {},
   "outputs": [
    {
     "name": "stdout",
     "output_type": "stream",
     "text": [
      "3.0\n"
     ]
    }
   ],
   "source": [
    "from math import sqrt\n",
    "print(sqrt(9))"
   ]
  },
  {
   "cell_type": "code",
   "execution_count": 24,
   "id": "611383aa",
   "metadata": {},
   "outputs": [
    {
     "name": "stdout",
     "output_type": "stream",
     "text": [
      "3.0\n"
     ]
    }
   ],
   "source": [
    "from math import *\n",
    "# * means all functions, therefore we can write sqrt\n",
    "print(sqrt(9))"
   ]
  },
  {
   "cell_type": "code",
   "execution_count": 25,
   "id": "3277eba3",
   "metadata": {},
   "outputs": [
    {
     "name": "stdout",
     "output_type": "stream",
     "text": [
      "hello\n"
     ]
    }
   ],
   "source": [
    "import time as tt\n",
    "\n",
    "tt.sleep(2)\n",
    "print(\"hello\")"
   ]
  },
  {
   "cell_type": "code",
   "execution_count": 26,
   "id": "e2307846",
   "metadata": {},
   "outputs": [
    {
     "name": "stdout",
     "output_type": "stream",
     "text": [
      "hello\n"
     ]
    }
   ],
   "source": [
    "from time import sleep as sl\n",
    "\n",
    "sl(2)\n",
    "print(\"hello\")"
   ]
  },
  {
   "cell_type": "code",
   "execution_count": 47,
   "id": "32c8ee8b",
   "metadata": {},
   "outputs": [
    {
     "name": "stdout",
     "output_type": "stream",
     "text": [
      "Requirement already satisfied: ipynb in /Users/huzuwang/opt/anaconda3/lib/python3.9/site-packages (0.5.1)\n",
      "\u001b[31mERROR: Could not find a version that satisfies the requirement Ipynb_importer (from versions: none)\u001b[0m\n",
      "\u001b[31mERROR: No matching distribution found for Ipynb_importer\u001b[0m\n"
     ]
    }
   ],
   "source": [
    "!pip install ipynb\n",
    "!pip install Ipynb_importer"
   ]
  },
  {
   "cell_type": "code",
   "execution_count": 50,
   "id": "370fdba2",
   "metadata": {},
   "outputs": [
    {
     "name": "stdout",
     "output_type": "stream",
     "text": [
      "2\n",
      "0\n"
     ]
    },
    {
     "data": {
      "text/plain": [
       "\"\\n# this cant be used because we didn't put testb in __all__\\n\""
      ]
     },
     "execution_count": 50,
     "metadata": {},
     "output_type": "execute_result"
    }
   ],
   "source": [
    "#from testfile1 import*  # normal import\n",
    "\n",
    "#jupyter notebook  way to import\n",
    "from ipynb.fs.defs.testfile1 import* \n",
    "\n",
    "\n",
    "\n",
    "testa(1,1)\n",
    "testb(1,1)   \n",
    "\n",
    "\n",
    "\"\"\"\n",
    "# this cant be used because we didn't put testb in __all__\n",
    "\"\"\"\n"
   ]
  },
  {
   "cell_type": "markdown",
   "id": "3e3563d4",
   "metadata": {},
   "source": [
    "### python package"
   ]
  },
  {
   "cell_type": "code",
   "execution_count": 52,
   "id": "e7861cdc",
   "metadata": {},
   "outputs": [
    {
     "name": "stdout",
     "output_type": "stream",
     "text": [
      "\u001b[31mERROR: Could not find a version that satisfies the requirement os (from versions: none)\u001b[0m\r\n",
      "\u001b[31mERROR: No matching distribution found for os\u001b[0m\r\n"
     ]
    }
   ],
   "source": [
    "!pip install os"
   ]
  },
  {
   "cell_type": "code",
   "execution_count": 53,
   "id": "4d5c3627",
   "metadata": {},
   "outputs": [
    {
     "ename": "ModuleNotFoundError",
     "evalue": "No module named 'package1.mod1'",
     "output_type": "error",
     "traceback": [
      "\u001b[0;31m---------------------------------------------------------------------------\u001b[0m",
      "\u001b[0;31mModuleNotFoundError\u001b[0m                       Traceback (most recent call last)",
      "\u001b[0;32m/var/folders/zl/whn4wn617zx2w7kcvhl0yy5r0000gn/T/ipykernel_6103/2901905675.py\u001b[0m in \u001b[0;36m<module>\u001b[0;34m\u001b[0m\n\u001b[1;32m      4\u001b[0m \u001b[0;34m\u001b[0m\u001b[0m\n\u001b[1;32m      5\u001b[0m \u001b[0;34m\u001b[0m\u001b[0m\n\u001b[0;32m----> 6\u001b[0;31m \u001b[0;32mimport\u001b[0m \u001b[0mpackage1\u001b[0m\u001b[0;34m.\u001b[0m\u001b[0mmod1\u001b[0m\u001b[0;34m\u001b[0m\u001b[0;34m\u001b[0m\u001b[0m\n\u001b[0m\u001b[1;32m      7\u001b[0m \u001b[0mpackage1\u001b[0m\u001b[0;34m.\u001b[0m\u001b[0mmod1\u001b[0m\u001b[0;34m.\u001b[0m\u001b[0minfoprint\u001b[0m\u001b[0;34m(\u001b[0m\u001b[0;34m)\u001b[0m\u001b[0;34m\u001b[0m\u001b[0;34m\u001b[0m\u001b[0m\n",
      "\u001b[0;31mModuleNotFoundError\u001b[0m: No module named 'package1.mod1'"
     ]
    }
   ],
   "source": [
    "# after creating packages, create __init__.py, this will control how its imported\n",
    "import os\n",
    "import sys\n",
    "\n",
    "\n",
    "import package1.mod1\n",
    "package1.mod1.infoprint()"
   ]
  },
  {
   "cell_type": "code",
   "execution_count": null,
   "id": "c196d5d3",
   "metadata": {},
   "outputs": [],
   "source": []
  }
 ],
 "metadata": {
  "kernelspec": {
   "display_name": "Python 3 (ipykernel)",
   "language": "python",
   "name": "python3"
  },
  "language_info": {
   "codemirror_mode": {
    "name": "ipython",
    "version": 3
   },
   "file_extension": ".py",
   "mimetype": "text/x-python",
   "name": "python",
   "nbconvert_exporter": "python",
   "pygments_lexer": "ipython3",
   "version": "3.9.7"
  }
 },
 "nbformat": 4,
 "nbformat_minor": 5
}
